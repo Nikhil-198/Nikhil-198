{
 "cells": [
  {
   "cell_type": "markdown",
   "id": "1d1489f7-b82f-4426-9511-b70ec68af276",
   "metadata": {},
   "source": [
    "# Data Science Tools and Ecosystem"
   ]
  },
  {
   "cell_type": "markdown",
   "id": "dba3fee7-a55e-47f4-8542-e33b55ea501b",
   "metadata": {},
   "source": [
    "# In this notebook, Data Science Tools and Ecosystem are summarized."
   ]
  },
  {
   "cell_type": "markdown",
   "id": "3db4880f-d197-4cd7-9733-df99ea358ac5",
   "metadata": {},
   "source": [
    "**Objectives:**\n",
    "\n",
    "- Create a Jupyter Notebook\n",
    "- List popular languages for Data Science\n",
    "- List popular libraries for Data Science\n",
    "- List popular tools for Data Science\n",
    "- Perform simple arithmetic calculations in python\n",
    "- Share your notebook through GitHub"
   ]
  },
  {
   "cell_type": "markdown",
   "id": "c4ca6c68-f916-45bf-aa24-62280c7c5175",
   "metadata": {},
   "source": [
    "# Some of the popular languages that Data Scientists use are:\n",
    "1. python\n",
    "2. R\n",
    "3. SQL\n",
    "4. java\n",
    "5. julia"
   ]
  },
  {
   "cell_type": "markdown",
   "id": "a4c13952-c1f6-4463-aa16-a11ff3accbf5",
   "metadata": {},
   "source": [
    "# Some of the commonly used libraries used by Data Scientists include:\n",
    "1. pandas\n",
    "2. Matplotlib\n",
    "3. Scikit-learn\n",
    "4. Tensorflow\n",
    "5. Apache spark"
   ]
  },
  {
   "cell_type": "markdown",
   "id": "26fc859a-f2b1-4554-9fe1-0565bf82c227",
   "metadata": {},
   "source": [
    "# \n",
    "\n",
    " Data Science Tools\n",
    "-------------------------\n",
    "* Jupyter notebook\n",
    "* R studio\n",
    "* Anaconda"
   ]
  },
  {
   "cell_type": "markdown",
   "id": "7223d49f-b16d-46f4-b480-91ae3550257c",
   "metadata": {},
   "source": [
    "### Below are a few examples of evaluating arithmetic expressions in Python."
   ]
  },
  {
   "cell_type": "code",
   "execution_count": 4,
   "id": "86361ce2-976f-4456-a597-fe561a18a720",
   "metadata": {
    "tags": []
   },
   "outputs": [
    {
     "data": {
      "text/plain": [
       "17"
      ]
     },
     "execution_count": 4,
     "metadata": {},
     "output_type": "execute_result"
    }
   ],
   "source": [
    "# This a simple arithmetic expression to mutiply then add integers\n",
    "(3*4)+5"
   ]
  },
  {
   "cell_type": "code",
   "execution_count": 8,
   "id": "70629c26-37df-4540-9400-a462197ff6d3",
   "metadata": {
    "tags": []
   },
   "outputs": [
    {
     "data": {
      "text/plain": [
       "3.3333333333333335"
      ]
     },
     "execution_count": 8,
     "metadata": {},
     "output_type": "execute_result"
    }
   ],
   "source": [
    "# This will convert 200 minutes to hours by diving by 60\n",
    "200/60"
   ]
  },
  {
   "cell_type": "markdown",
   "id": "12353319-f7f3-4089-92a5-4ee16cca8e86",
   "metadata": {},
   "source": [
    "## Author"
   ]
  },
  {
   "cell_type": "markdown",
   "id": "e4d3aa51-ec89-482f-84e1-787dc5308e56",
   "metadata": {},
   "source": [
    "### Nikhil"
   ]
  },
  {
   "cell_type": "code",
   "execution_count": null,
   "id": "467a06f9-745e-4818-9114-24baf44f6df0",
   "metadata": {},
   "outputs": [],
   "source": []
  }
 ],
 "metadata": {
  "kernelspec": {
   "display_name": "Python",
   "language": "python",
   "name": "conda-env-python-py"
  },
  "language_info": {
   "codemirror_mode": {
    "name": "ipython",
    "version": 3
   },
   "file_extension": ".py",
   "mimetype": "text/x-python",
   "name": "python",
   "nbconvert_exporter": "python",
   "pygments_lexer": "ipython3",
   "version": "3.7.12"
  }
 },
 "nbformat": 4,
 "nbformat_minor": 5
}
